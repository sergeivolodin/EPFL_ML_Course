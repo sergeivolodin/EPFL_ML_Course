{
 "cells": [
  {
   "cell_type": "code",
   "execution_count": 1,
   "metadata": {
    "collapsed": true
   },
   "outputs": [],
   "source": [
    "# Useful starting lines\n",
    "%matplotlib inline\n",
    "import numpy as np\n",
    "import matplotlib.pyplot as plt\n",
    "import torch\n",
    "import torch.nn as nn\n",
    "from torch.autograd import Variable\n",
    "%load_ext autoreload\n",
    "%autoreload 2"
   ]
  },
  {
   "cell_type": "code",
   "execution_count": 2,
   "metadata": {
    "collapsed": true
   },
   "outputs": [],
   "source": [
    "# Defining a toy dataset\n",
    "x_train = np.array([[3.3], [4.4], [5.5], [6.71], [6.93], [4.168], \n",
    "                    [9.779], [6.182], [7.59], [2.167], [7.042], \n",
    "                    [10.791], [5.313], [7.997], [3.1]], dtype=np.float32)\n",
    "\n",
    "y_train = np.array([[1.7], [2.76], [2.09], [3.19], [1.694], [1.573], \n",
    "                    [3.366], [2.596], [2.53], [1.221], [2.827], \n",
    "                        [3.465], [1.65], [2.904], [1.3]], dtype=np.float32)"
   ]
  },
  {
   "cell_type": "markdown",
   "metadata": {},
   "source": [
    "## Linear regression"
   ]
  },
  {
   "cell_type": "code",
   "execution_count": 3,
   "metadata": {},
   "outputs": [
    {
     "name": "stdout",
     "output_type": "stream",
     "text": [
      "Testing model: an input of [ 0.  1.  2.] gives a prediction:\n",
      " Variable containing:\n",
      "-0.8959\n",
      " 0.3654\n",
      " 1.6267\n",
      "[torch.FloatTensor of size 3]\n",
      "\n"
     ]
    }
   ],
   "source": [
    "class MyLinearRegression:\n",
    "    def __init__(self):\n",
    "        # TODO: Define the parameters of the model (weights and biases)\n",
    "        dtype = torch.FloatTensor\n",
    "        self.w = Variable(torch.randn(1).type(dtype), requires_grad = True)\n",
    "        self.b = Variable(torch.randn(1).type(dtype), requires_grad = True)\n",
    "    \n",
    "    def forward(self, x):\n",
    "        # TODO: implement forward computation - compute predictions based on the inputs\n",
    "        return x * self.w + self.b\n",
    "    \n",
    "    def parameters(self):\n",
    "        # TODO: this function should return a list of parameters of the model\n",
    "        return [self.w, self.b]\n",
    "    \n",
    "    def __call__(self, x):\n",
    "        # Convenience function\n",
    "        return self.forward(x)\n",
    "    \n",
    "\n",
    "def mselossfunc(pred, y):\n",
    "    # TODO: implement the MSE loss function\n",
    "    raise NotImplementedError\n",
    "\n",
    "model = MyLinearRegression()\n",
    "numpy_inputs = np.asarray([0.0, 1.0, 2.0], dtype = np.float32)\n",
    "torch_inputs = Variable(torch.from_numpy(numpy_inputs))\n",
    "torch_outputs = model(torch_inputs)\n",
    "print(\"Testing model: an input of %s gives a prediction:\\n %s\" % (numpy_inputs, torch_outputs))"
   ]
  },
  {
   "cell_type": "code",
   "execution_count": 4,
   "metadata": {
    "collapsed": true
   },
   "outputs": [],
   "source": [
    "def train(features, labels, model, lossfunc, optimizer, num_epoch):\n",
    "\n",
    "    for epoch in range(num_epoch):\n",
    "        inputs_x = Variable(torch.from_numpy(features), requires_grad = False)\n",
    "        inputs_y = Variable(torch.from_numpy(labels), requires_grad = False)\n",
    "\n",
    "        # TODO: Step 2 - compute model predictions and loss\n",
    "        predictions = model(inputs_x)\n",
    "        loss = (predictions - inputs_y).pow(2).sum()\n",
    "        \n",
    "        optimizer.zero_grad()\n",
    "        loss.backward()\n",
    "        optimizer.step()\n",
    "        \n",
    "        if epoch % 10 == 0:\n",
    "            print ('Epoch [%d/%d], Loss: %.4f' \n",
    "                   %(epoch+1, num_epoch, loss.data[0]))\n",
    "        \n",
    "        \n",
    "def visualize(x_train, y_train, model):\n",
    "    # A convenience function for visualizing predictions given by the model\n",
    "\n",
    "    predicted = model(Variable(torch.from_numpy(x_train))).data.numpy()\n",
    "    order = np.argsort(x_train, axis = 0)\n",
    "    plt.plot(x_train[order].flatten(), y_train[order].flatten(), 'ro', label='Original data')\n",
    "    plt.plot(x_train[order].flatten(), predicted[order].flatten(), label='Fitted line')\n",
    "    plt.legend()\n",
    "    plt.show()"
   ]
  },
  {
   "cell_type": "code",
   "execution_count": 5,
   "metadata": {},
   "outputs": [
    {
     "name": "stdout",
     "output_type": "stream",
     "text": [
      "Epoch [1/50], Loss: 380.1703\n",
      "Epoch [11/50], Loss: 8.1153\n",
      "Epoch [21/50], Loss: 7.7007\n",
      "Epoch [31/50], Loss: 7.3168\n",
      "Epoch [41/50], Loss: 6.9615\n"
     ]
    },
    {
     "data": {
      "image/png": "[encoded data removed]",
      "text/plain": [
       "<matplotlib.figure.Figure at 0x7fde4a8d0fd0>"
      ]
     },
     "metadata": {},
     "output_type": "display_data"
    }
   ],
   "source": [
    "# Training and visualizing predictions made by linear regression model\n",
    "optimizer = torch.optim.SGD(model.parameters(), lr=1e-3)\n",
    "\n",
    "train(features = x_train,\n",
    "      labels = y_train,\n",
    "      model = model,\n",
    "      lossfunc = mselossfunc, \n",
    "      optimizer = optimizer,\n",
    "      num_epoch = 50)\n",
    "visualize(x_train, y_train, model)"
   ]
  },
  {
   "cell_type": "markdown",
   "metadata": {},
   "source": [
    "## Linear Regression (using nn package)"
   ]
  },
  {
   "cell_type": "code",
   "execution_count": 11,
   "metadata": {},
   "outputs": [
    {
     "name": "stdout",
     "output_type": "stream",
     "text": [
      "Epoch [1/100], Loss: 409.2265\n",
      "Epoch [11/100], Loss: 3.3615\n",
      "Epoch [21/100], Loss: 3.3000\n",
      "Epoch [31/100], Loss: 3.2431\n",
      "Epoch [41/100], Loss: 3.1904\n",
      "Epoch [51/100], Loss: 3.1416\n",
      "Epoch [61/100], Loss: 3.0964\n",
      "Epoch [71/100], Loss: 3.0546\n",
      "Epoch [81/100], Loss: 3.0159\n",
      "Epoch [91/100], Loss: 2.9801\n"
     ]
    },
    {
     "data": {
      "image/png": "[encoded data removed]",
      "text/plain": [
       "<matplotlib.figure.Figure at 0x7fde48119668>"
      ]
     },
     "metadata": {},
     "output_type": "display_data"
    }
   ],
   "source": [
    "class NNLinearRegression(nn.Module):\n",
    "    def __init__(self):\n",
    "        super(NNLinearRegression, self).__init__()\n",
    "        # TODO: Define the parameters of the model (linear nn layer)\n",
    "        self.layer = nn.Linear(1, 1)\n",
    "    \n",
    "    def forward(self, x):\n",
    "        # TODO: implement forward computation\n",
    "        return self.layer(x)\n",
    "    \n",
    "# Training and visualizing predictions made by linear regression model (nn package)\n",
    "# TODO: use loss function from nn package\n",
    "lossfunc = torch.nn.MSELoss(size_average=False)\n",
    "\n",
    "model = NNLinearRegression()\n",
    "\n",
    "optimizer = torch.optim.SGD(model.parameters(), lr=1e-3)\n",
    "\n",
    "train(features = x_train,\n",
    "      labels = y_train,\n",
    "      model = model,\n",
    "      lossfunc = lossfunc,\n",
    "      optimizer = optimizer,\n",
    "      num_epoch = 100)\n",
    "visualize(x_train, y_train, model)"
   ]
  },
  {
   "cell_type": "markdown",
   "metadata": {},
   "source": [
    "## MLP"
   ]
  },
  {
   "cell_type": "code",
   "execution_count": 28,
   "metadata": {},
   "outputs": [
    {
     "name": "stdout",
     "output_type": "stream",
     "text": [
      "Epoch [1/1000], Loss: 58.5350\n",
      "Epoch [11/1000], Loss: 7.6202\n",
      "Epoch [21/1000], Loss: 6.0437\n",
      "Epoch [31/1000], Loss: 5.9131\n",
      "Epoch [41/1000], Loss: 5.8222\n",
      "Epoch [51/1000], Loss: 5.7339\n",
      "Epoch [61/1000], Loss: 5.6471\n",
      "Epoch [71/1000], Loss: 5.5617\n",
      "Epoch [81/1000], Loss: 5.4779\n",
      "Epoch [91/1000], Loss: 5.3955\n",
      "Epoch [101/1000], Loss: 5.3145\n",
      "Epoch [111/1000], Loss: 5.2351\n",
      "Epoch [121/1000], Loss: 5.1572\n",
      "Epoch [131/1000], Loss: 5.0808\n",
      "Epoch [141/1000], Loss: 5.0060\n",
      "Epoch [151/1000], Loss: 4.9328\n",
      "Epoch [161/1000], Loss: 4.8613\n",
      "Epoch [171/1000], Loss: 4.7915\n",
      "Epoch [181/1000], Loss: 4.7234\n",
      "Epoch [191/1000], Loss: 4.6570\n",
      "Epoch [201/1000], Loss: 4.5923\n",
      "Epoch [211/1000], Loss: 4.5294\n",
      "Epoch [221/1000], Loss: 4.4682\n",
      "Epoch [231/1000], Loss: 4.4088\n",
      "Epoch [241/1000], Loss: 4.3510\n",
      "Epoch [251/1000], Loss: 4.2949\n",
      "Epoch [261/1000], Loss: 4.2403\n",
      "Epoch [271/1000], Loss: 4.1874\n",
      "Epoch [281/1000], Loss: 4.1360\n",
      "Epoch [291/1000], Loss: 4.0861\n",
      "Epoch [301/1000], Loss: 4.0376\n",
      "Epoch [311/1000], Loss: 3.9904\n",
      "Epoch [321/1000], Loss: 3.9446\n",
      "Epoch [331/1000], Loss: 3.9000\n",
      "Epoch [341/1000], Loss: 3.8567\n",
      "Epoch [351/1000], Loss: 3.8145\n",
      "Epoch [361/1000], Loss: 3.7735\n",
      "Epoch [371/1000], Loss: 3.7335\n",
      "Epoch [381/1000], Loss: 3.6947\n",
      "Epoch [391/1000], Loss: 3.6568\n",
      "Epoch [401/1000], Loss: 3.6200\n",
      "Epoch [411/1000], Loss: 3.5842\n",
      "Epoch [421/1000], Loss: 3.5493\n",
      "Epoch [431/1000], Loss: 3.5154\n",
      "Epoch [441/1000], Loss: 3.4823\n",
      "Epoch [451/1000], Loss: 3.4502\n",
      "Epoch [461/1000], Loss: 3.4190\n",
      "Epoch [471/1000], Loss: 3.3886\n",
      "Epoch [481/1000], Loss: 3.3591\n",
      "Epoch [491/1000], Loss: 3.3305\n",
      "Epoch [501/1000], Loss: 3.3027\n",
      "Epoch [511/1000], Loss: 3.2757\n",
      "Epoch [521/1000], Loss: 3.2496\n",
      "Epoch [531/1000], Loss: 3.2242\n",
      "Epoch [541/1000], Loss: 3.1997\n",
      "Epoch [551/1000], Loss: 3.1759\n",
      "Epoch [561/1000], Loss: 3.1529\n",
      "Epoch [571/1000], Loss: 3.1307\n",
      "Epoch [581/1000], Loss: 3.1092\n",
      "Epoch [591/1000], Loss: 3.0885\n",
      "Epoch [601/1000], Loss: 3.0684\n",
      "Epoch [611/1000], Loss: 3.0491\n",
      "Epoch [621/1000], Loss: 3.0305\n",
      "Epoch [631/1000], Loss: 3.0126\n",
      "Epoch [641/1000], Loss: 2.9953\n",
      "Epoch [651/1000], Loss: 2.9787\n",
      "Epoch [661/1000], Loss: 2.9627\n",
      "Epoch [671/1000], Loss: 2.9474\n",
      "Epoch [681/1000], Loss: 2.9326\n",
      "Epoch [691/1000], Loss: 2.9185\n",
      "Epoch [701/1000], Loss: 2.9049\n",
      "Epoch [711/1000], Loss: 2.8918\n",
      "Epoch [721/1000], Loss: 2.8793\n",
      "Epoch [731/1000], Loss: 2.8673\n",
      "Epoch [741/1000], Loss: 2.8559\n",
      "Epoch [751/1000], Loss: 2.8449\n",
      "Epoch [761/1000], Loss: 2.8343\n",
      "Epoch [771/1000], Loss: 2.8243\n",
      "Epoch [781/1000], Loss: 2.8146\n",
      "Epoch [791/1000], Loss: 2.8054\n",
      "Epoch [801/1000], Loss: 2.7965\n",
      "Epoch [811/1000], Loss: 2.7881\n",
      "Epoch [821/1000], Loss: 2.7800\n",
      "Epoch [831/1000], Loss: 2.7723\n",
      "Epoch [841/1000], Loss: 2.7649\n",
      "Epoch [851/1000], Loss: 2.7578\n",
      "Epoch [861/1000], Loss: 2.7511\n",
      "Epoch [871/1000], Loss: 2.7446\n",
      "Epoch [881/1000], Loss: 2.7384\n",
      "Epoch [891/1000], Loss: 2.7325\n",
      "Epoch [901/1000], Loss: 2.7268\n",
      "Epoch [911/1000], Loss: 2.7214\n",
      "Epoch [921/1000], Loss: 2.7162\n",
      "Epoch [931/1000], Loss: 2.7112\n",
      "Epoch [941/1000], Loss: 2.7065\n",
      "Epoch [951/1000], Loss: 2.7019\n",
      "Epoch [961/1000], Loss: 2.6975\n",
      "Epoch [971/1000], Loss: 2.6933\n",
      "Epoch [981/1000], Loss: 2.6893\n",
      "Epoch [991/1000], Loss: 2.6854\n"
     ]
    },
    {
     "data": {
      "image/png": "[encoded data removed]",
      "text/plain": [
       "<matplotlib.figure.Figure at 0x7fde43f85198>"
      ]
     },
     "metadata": {},
     "output_type": "display_data"
    }
   ],
   "source": [
    "class MLP(nn.Module):\n",
    "    def __init__(self, hidden_size):\n",
    "        super(MLP, self).__init__()\n",
    "        # TODO: Define parameters / layers of a multi-layered perceptron with one hidden layer\n",
    "        self.layers = torch.nn.Sequential(\n",
    "            torch.nn.Linear(1, hidden_size),\n",
    "            torch.nn.Sigmoid(),\n",
    "            torch.nn.Linear(hidden_size, 1),\n",
    "        )\n",
    "    \n",
    "    def forward(self, x):\n",
    "        return self.layers(x)\n",
    "    \n",
    "# TODO: Play with learning rate, hidden size, and optimizer type for multi-layered perceptron\n",
    "hidden_size = 10\n",
    "learning_rate = 1e-3\n",
    "\n",
    "model = MLP(hidden_size = hidden_size)\n",
    "\n",
    "optimizer = torch.optim.SGD(model.parameters(), lr=learning_rate)\n",
    "\n",
    "train(features = x_train,\n",
    "      labels = y_train,\n",
    "      model = model,\n",
    "      lossfunc = lossfunc,\n",
    "      optimizer = optimizer,\n",
    "      num_epoch = 1000)\n",
    "visualize(x_train, y_train, model)"
   ]
  },
  {
   "cell_type": "code",
   "execution_count": null,
   "metadata": {
    "collapsed": true
   },
   "outputs": [],
   "source": []
  }
 ],
 "metadata": {
  "kernelspec": {
   "display_name": "Python 3",
   "language": "python",
   "name": "python3"
  },
  "language_info": {
   "codemirror_mode": {
    "name": "ipython",
    "version": 3
   },
   "file_extension": ".py",
   "mimetype": "text/x-python",
   "name": "python",
   "nbconvert_exporter": "python",
   "pygments_lexer": "ipython3",
   "version": "3.6.2"
  }
 },
 "nbformat": 4,
 "nbformat_minor": 2
}
