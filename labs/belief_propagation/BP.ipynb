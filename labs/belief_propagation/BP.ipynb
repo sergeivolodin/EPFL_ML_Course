{
 "cells": [
  {
   "cell_type": "code",
   "execution_count": 1,
   "metadata": {
    "collapsed": true
   },
   "outputs": [],
   "source": [
    "import numpy as np\n",
    "from copy import deepcopy"
   ]
  },
  {
   "cell_type": "code",
   "execution_count": 2,
   "metadata": {
    "collapsed": true
   },
   "outputs": [],
   "source": [
    "# number of variables in a factor graph\n",
    "n_vars = 3\n",
    "\n",
    "# all variables\n",
    "variables = ['x' + str(i) for i in range(n_vars)]\n",
    "\n",
    "# number of factors in a factor graph\n",
    "n_funcs = 5\n",
    "\n",
    "# variable space\n",
    "var_space = [1., 0., 25., -25.]\n",
    "\n",
    "# some function examples\n",
    "f0 = lambda x : x['x0'] + x['x1']\n",
    "f1 = lambda x : x['x1']\n",
    "f2 = lambda x : x['x2']\n",
    "f3 = lambda x : x['x1'] + x['x0']\n",
    "f4 = lambda x : x['x0']\n",
    "\n",
    "# list of all functions\n",
    "funcs = {'f0': f0, 'f1': f1, 'f2': f2, 'f3': f3, 'f4': f4}\n",
    "\n",
    "# list of argument numbers required for each functions\n",
    "deps = {'f0': ['x0','x1'], 'f1': ['x1'], 'f2': ['x2'], 'f3': ['x0','x1'], 'f4': ['x0']}\n",
    "\n",
    "# sanity check\n",
    "assert(len(deps) == n_funcs)\n",
    "assert(len(funcs) == n_funcs)\n",
    "\n",
    "# list of all nodes\n",
    "nodes = list(funcs.keys()) + variables\n",
    "\n",
    "# sanity check\n",
    "assert(len(nodes) == n_vars + n_funcs)"
   ]
  },
  {
   "cell_type": "code",
   "execution_count": 3,
   "metadata": {
    "collapsed": true
   },
   "outputs": [],
   "source": [
    "# dictionaries merger\n",
    "# https://stackoverflow.com/questions/38987/how-to-merge-two-dictionaries-in-a-single-expression\n",
    "def merge_two_dicts(x, y):\n",
    "    z = x.copy()   # start with x's keys and values\n",
    "    z.update(y)    # modifies z with y's keys and values & returns None\n",
    "    return z\n",
    "\n",
    "# brute force marginalization\n",
    "def brute_marginalize1(sum_over, assignments):\n",
    "    if len(sum_over) == 0:\n",
    "        res = lambda x : 1.\n",
    "        for f in funcs.values():\n",
    "            res = lambda x, f=f, g=res, ass=assignments : f(merge_two_dicts(x, ass)) * g(merge_two_dicts(x, ass))\n",
    "        return res\n",
    "    var = sum_over[0]\n",
    "    result = lambda x : 0.\n",
    "    for value in var_space:\n",
    "        new_assignments = deepcopy(assignments)\n",
    "        new_assignments[var] = value\n",
    "        result = lambda x, f=brute_marginalize1(sum_over[1:], new_assignments),g=result : f(x) + g(x)\n",
    "    return result\n",
    "\n",
    "def brute_marginalize(variable):\n",
    "    sum_over = deepcopy(variables)\n",
    "    sum_over.remove(variable)\n",
    "    return lambda x, f=brute_marginalize1(sum_over, {}), v=variable : f({v : x})\n",
    "\n",
    "# get siblings of a node in the factor graph\n",
    "def get_siblings(node):\n",
    "    if node[0] == 'f':\n",
    "        return deepcopy(deps[node])\n",
    "    elif node[0] == 'x':\n",
    "        return deepcopy([key for key, value in deps.items() if node in value])"
   ]
  },
  {
   "cell_type": "code",
   "execution_count": 59,
   "metadata": {},
   "outputs": [],
   "source": [
    "# array with all of the messages\n",
    "messages = {n: {x: (lambda z: 1.) for x in nodes} for n in nodes}\n",
    "\n",
    "def message_v_a(v, a):\n",
    "    # v -- variable node\n",
    "    # a -- factor node\n",
    "    neigh_v = get_siblings(v)\n",
    "    neigh_v.remove(a)\n",
    "    res = lambda x: 1.\n",
    "    for f in neigh_v:\n",
    "        res = lambda x, f=messages[f][v], g=res: g(x) * f(x)\n",
    "    messages[v][a] = res\n",
    "    return res\n",
    "\n",
    "# returns list of assignments for a sum over sum_over\n",
    "def all_assignments(sum_over, assignments = {}):\n",
    "    result = []\n",
    "    if len(sum_over) == 0:\n",
    "        return [assignments]\n",
    "    else:\n",
    "        current_var = sum_over[0]\n",
    "        for value in var_space:\n",
    "            assignments_new = deepcopy(assignments)\n",
    "            assignments_new[current_var] = value\n",
    "            [result.append(tmp) for tmp in all_assignments(sum_over[1:], assignments_new)]\n",
    "        return result\n",
    "    \n",
    "def message_a_v(v, a):\n",
    "    # v -- variable node\n",
    "    # a -- factor node\n",
    "    neigh_a = get_siblings(a)\n",
    "    neigh_a.remove(v)\n",
    "    sum_assignments = all_assignments(neigh_a, {})\n",
    "    res = lambda x : 0.\n",
    "    for assignment in sum_assignments:\n",
    "        product = lambda x : 1.\n",
    "        for v1 in neigh_a:\n",
    "            #print('{}->{}: {}->{}'.format(a, v, v1, a))\n",
    "            product = lambda x, element = messages[v1][a], curr=product : curr(x) * element(x)\n",
    "        res = lambda x, curr=res, element1=product, ass=assignment, cf=funcs[a] : curr(merge_two_dicts(x, ass)) + \\\n",
    "            (element1(merge_two_dicts(x, ass)) * cf(merge_two_dicts(x, ass)))\n",
    "    messages[a][v] = res\n",
    "    return res\n",
    "\n",
    "def set_messages():\n",
    "    for v in variables:\n",
    "        for a in funcs.keys():\n",
    "            if v in get_siblings(a):\n",
    "                messages[v][a] = message_v_a(v, a)\n",
    "                messages[a][v] = message_a_v(v, a)\n",
    "                \n",
    "def bp_marginalize(variable):\n",
    "    res = lambda x : 1.\n",
    "    for f in get_siblings(variable):\n",
    "        res = lambda x, f=messages[f][variable], g=res: f(x) * g(x)\n",
    "    return res\n",
    "set_messages()\n",
    "#set_messages()\n",
    "#set_messages()"
   ]
  },
  {
   "cell_type": "code",
   "execution_count": 69,
   "metadata": {},
   "outputs": [
    {
     "name": "stdout",
     "output_type": "stream",
     "text": [
      "507.0\n"
     ]
    }
   ],
   "source": [
    "#print(bp_marginalize('x1'))\n",
    "print(bp_marginalize('x0')({'x0': 3}))"
   ]
  },
  {
   "cell_type": "code",
   "execution_count": 70,
   "metadata": {},
   "outputs": [
    {
     "data": {
      "text/plain": [
       "22548.0"
      ]
     },
     "execution_count": 70,
     "metadata": {},
     "output_type": "execute_result"
    }
   ],
   "source": [
    "brute_marginalize('x0')(3)"
   ]
  },
  {
   "cell_type": "code",
   "execution_count": null,
   "metadata": {
    "collapsed": true
   },
   "outputs": [],
   "source": []
  }
 ],
 "metadata": {
  "kernelspec": {
   "display_name": "Python 3",
   "language": "python",
   "name": "python3"
  }
 },
 "nbformat": 4,
 "nbformat_minor": 2
}
