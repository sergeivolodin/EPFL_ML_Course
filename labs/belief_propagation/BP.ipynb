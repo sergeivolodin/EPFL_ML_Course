{
 "cells": [
  {
   "cell_type": "code",
   "execution_count": 1,
   "metadata": {
    "collapsed": true
   },
   "outputs": [],
   "source": [
    "import numpy as np\n",
    "from copy import deepcopy"
   ]
  },
  {
   "cell_type": "code",
   "execution_count": 134,
   "metadata": {
    "collapsed": true
   },
   "outputs": [],
   "source": [
    "# number of variables in a factor graph\n",
    "n_vars = 6\n",
    "\n",
    "# all variables\n",
    "variables = ['x' + str(i) for i in range(n_vars)]\n",
    "\n",
    "# number of factors in a factor graph\n",
    "n_funcs = 4\n",
    "\n",
    "# variable space\n",
    "var_space = [-0.1, 1.2]\n",
    "\n",
    "# some function examples\n",
    "f0 = lambda x : x['x0'] + x['x1'] * x['x2']\n",
    "f1 = lambda x : x['x0'] + np.sin(x['x3']) + np.cos(x['x5'])\n",
    "f2 = lambda x : np.exp(x['x3'])\n",
    "f3 = lambda x : x['x3'] * x['x4']\n",
    "\n",
    "# list of all functions\n",
    "funcs = {'f0': f0, 'f1': f1, 'f2': f2, 'f3': f3}\n",
    "\n",
    "# list of argument numbers required for each functions\n",
    "deps = {'f0': ['x0','x1','x2'], 'f1': ['x0', 'x3', 'x5'], 'f2': ['x3'], 'f3': ['x3','x4']}\n",
    "\n",
    "# sanity check\n",
    "assert(len(deps) == n_funcs)\n",
    "assert(len(funcs) == n_funcs)\n",
    "\n",
    "# list of all nodes\n",
    "nodes = list(funcs.keys()) + variables\n",
    "\n",
    "# sanity check\n",
    "assert(len(nodes) == n_vars + n_funcs)"
   ]
  },
  {
   "cell_type": "code",
   "execution_count": 135,
   "metadata": {
    "collapsed": true
   },
   "outputs": [],
   "source": [
    "# dictionaries merger\n",
    "# https://stackoverflow.com/questions/38987/how-to-merge-two-dictionaries-in-a-single-expression\n",
    "def merge_two_dicts(x, y):\n",
    "    z = x.copy()   # start with x's keys and values\n",
    "    z.update(y)    # modifies z with y's keys and values & returns None\n",
    "    return z\n",
    "\n",
    "# brute force marginalization\n",
    "def brute_marginalize1(sum_over, assignments):\n",
    "    if len(sum_over) == 0:\n",
    "        res = lambda x : 1.\n",
    "        for f in funcs.values():\n",
    "            res = lambda x, f=f, g=res, ass=assignments : f(merge_two_dicts(x, ass)) * g(merge_two_dicts(x, ass))\n",
    "        return res\n",
    "    var = sum_over[0]\n",
    "    result = lambda x : 0.\n",
    "    for value in var_space:\n",
    "        new_assignments = deepcopy(assignments)\n",
    "        new_assignments[var] = value\n",
    "        result = lambda x, f=brute_marginalize1(sum_over[1:], new_assignments),g=result : f(x) + g(x)\n",
    "    return result\n",
    "\n",
    "def brute_marginalize(variable):\n",
    "    sum_over = deepcopy(variables)\n",
    "    sum_over.remove(variable)\n",
    "    return lambda x, f=brute_marginalize1(sum_over, {}), v=variable : f({v : x})\n",
    "\n",
    "# get siblings of a node in the factor graph\n",
    "def get_siblings(node):\n",
    "    if node[0] == 'f':\n",
    "        return deepcopy(deps[node])\n",
    "    elif node[0] == 'x':\n",
    "        return deepcopy([key for key, value in deps.items() if node in value])"
   ]
  },
  {
   "cell_type": "code",
   "execution_count": 136,
   "metadata": {},
   "outputs": [],
   "source": [
    "# array with all of the messages\n",
    "messages = {n: {x: (lambda z: None) for x in nodes} for n in nodes}\n",
    "\n",
    "def get_descendants(node):\n",
    "    return tree[node]\n",
    "\n",
    "def message_v_a(v, a):\n",
    "    # v -- variable node\n",
    "    # a -- factor node\n",
    "    neigh_v = get_descendants(v)\n",
    "    if a in neigh_v:\n",
    "        neigh_v.remove(a)\n",
    "    res = lambda x: 1.\n",
    "    for f in neigh_v:\n",
    "        res = lambda x, f=messages[f][v], g=res: g(x) * f(x)\n",
    "    messages[v][a] = res\n",
    "    return res\n",
    "\n",
    "# returns list of assignments for a sum over sum_over\n",
    "def all_assignments(sum_over, assignments = {}):\n",
    "    result = []\n",
    "    if len(sum_over) == 0:\n",
    "        return [assignments]\n",
    "    else:\n",
    "        current_var = sum_over[0]\n",
    "        for value in var_space:\n",
    "            assignments_new = deepcopy(assignments)\n",
    "            assignments_new[current_var] = value\n",
    "            [result.append(tmp) for tmp in all_assignments(sum_over[1:], assignments_new)]\n",
    "        return result\n",
    "    \n",
    "def message_a_v(a, v):\n",
    "    # v -- variable node\n",
    "    # a -- factor node\n",
    "    neigh_a = get_descendants(a)\n",
    "    if v in neigh_a:\n",
    "        neigh_a.remove(v)\n",
    "    sum_assignments = all_assignments(neigh_a, {})\n",
    "    res = lambda x : 0.\n",
    "    for assignment in sum_assignments:\n",
    "        product = lambda x : 1.\n",
    "        for v1 in neigh_a:\n",
    "            #print('{}->{}: {}->{}'.format(a, v, v1, a))\n",
    "            product = lambda x, element = messages[v1][a], curr=product : curr(x) * element(x)\n",
    "        res = lambda x, curr=res, element1=product, ass=assignment, cf=funcs[a] : curr(merge_two_dicts(x, ass)) + \\\n",
    "            (element1(merge_two_dicts(x, ass)) * cf(merge_two_dicts(x, ass)))\n",
    "    messages[a][v] = res\n",
    "    return res\n",
    "\n",
    "def set_message(u, v):\n",
    "    if u[0] == 'f' and v[0] == 'x':\n",
    "        messages[u][v] = message_a_v(u, v)\n",
    "    elif u[0] == 'x' and v[0] == 'f':\n",
    "        messages[u][v] = message_v_a(u, v)\n",
    "    else:\n",
    "        print(\"Error\")\n",
    "                \n",
    "def bp_marginalize(variable):\n",
    "    res = lambda x : 1.\n",
    "    for f in get_descendants(variable):\n",
    "        res = lambda x, f=messages[f][variable], g=res: f(x) * g(x)\n",
    "    return res\n",
    "#set_messages()\n",
    "#set_messages()\n",
    "#set_messages()\n",
    "\n",
    "def get_tree(node, visited = []):\n",
    "    res = {}\n",
    "    res[node] = []\n",
    "    for v in get_siblings(node):\n",
    "        if v not in visited:\n",
    "            res[node].append(v)\n",
    "            res.update(get_tree(v, visited + [node, v]))\n",
    "    return res\n",
    "\n",
    "tree = get_tree('x0')\n",
    "\n",
    "def set_messages_tree(node):\n",
    "    for v in get_descendants(node):\n",
    "        set_messages_tree(v)\n",
    "        set_message(v, node)\n",
    "        \n",
    "set_messages_tree('x0')"
   ]
  },
  {
   "cell_type": "code",
   "execution_count": 139,
   "metadata": {},
   "outputs": [
    {
     "name": "stdout",
     "output_type": "stream",
     "text": [
      "31.5893957643\n"
     ]
    }
   ],
   "source": [
    "#print(bp_marginalize('x1'))\n",
    "print(bp_marginalize('x0')({'x0': 0.2}))"
   ]
  },
  {
   "cell_type": "code",
   "execution_count": 140,
   "metadata": {},
   "outputs": [
    {
     "data": {
      "text/plain": [
       "31.589395764297642"
      ]
     },
     "execution_count": 140,
     "metadata": {},
     "output_type": "execute_result"
    }
   ],
   "source": [
    "brute_marginalize('x0')(0.2)"
   ]
  },
  {
   "cell_type": "code",
   "execution_count": null,
   "metadata": {
    "collapsed": true
   },
   "outputs": [],
   "source": []
  }
 ],
 "metadata": {
  "kernelspec": {
   "display_name": "Python 3",
   "language": "python",
   "name": "python3"
  },
  "language_info": {
   "codemirror_mode": {
    "name": "ipython",
    "version": 3
   },
   "file_extension": ".py",
   "mimetype": "text/x-python",
   "name": "python",
   "nbconvert_exporter": "python",
   "pygments_lexer": "ipython3",
   "version": "3.6.2"
  }
 },
 "nbformat": 4,
 "nbformat_minor": 2
}
