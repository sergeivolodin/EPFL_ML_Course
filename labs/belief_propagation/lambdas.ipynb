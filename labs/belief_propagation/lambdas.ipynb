{
 "cells": [
  {
   "cell_type": "markdown",
   "metadata": {},
   "source": [
    "### Lambdas playground"
   ]
  },
  {
   "cell_type": "code",
   "execution_count": 92,
   "metadata": {},
   "outputs": [],
   "source": [
    "from copy import deepcopy\n",
    "from functools import partial\n",
    "from itertools import product"
   ]
  },
  {
   "cell_type": "code",
   "execution_count": 1,
   "metadata": {
    "collapsed": true
   },
   "outputs": [],
   "source": [
    "f1 = lambda x : x\n",
    "f2 = lambda x : x ** 2\n",
    "fs = [f1, f2]"
   ]
  },
  {
   "cell_type": "code",
   "execution_count": 62,
   "metadata": {},
   "outputs": [],
   "source": [
    "res = lambda x : 1\n",
    "for f in fs:\n",
    "    res = lambda x, f=f, g=lambdas[-1] : f(x) * g(x)\n",
    "res = lambdas[-1]"
   ]
  },
  {
   "cell_type": "code",
   "execution_count": 63,
   "metadata": {},
   "outputs": [
    {
     "data": {
      "text/plain": [
       "1000"
      ]
     },
     "execution_count": 63,
     "metadata": {},
     "output_type": "execute_result"
    }
   ],
   "source": [
    "res(10)"
   ]
  },
  {
   "cell_type": "markdown",
   "metadata": {},
   "source": [
    "### main.py"
   ]
  },
  {
   "cell_type": "code",
   "execution_count": null,
   "metadata": {
    "collapsed": true
   },
   "outputs": [],
   "source": [
    "import numpy as np\n",
    "from copy import deepcopy"
   ]
  },
  {
   "cell_type": "code",
   "execution_count": 134,
   "metadata": {
    "collapsed": true
   },
   "outputs": [],
   "source": [
    "# number of variables in a factor graph\n",
    "n_vars = 3\n",
    "\n",
    "# all variables\n",
    "variables = ['x' + str(i) for i in range(n_vars)]\n",
    "\n",
    "# number of factors in a factor graph\n",
    "n_funcs = 5\n",
    "\n",
    "# variable space\n",
    "var_space = [1., 0., 25., -25.]\n",
    "\n",
    "# some function examples\n",
    "f0 = lambda x : x['x0'] + x['x1']\n",
    "f1 = lambda x : x['x1']\n",
    "f2 = lambda x : x['x2']\n",
    "f3 = lambda x : x['x1'] + x['x0']\n",
    "f4 = lambda x : x['x0']\n",
    "\n",
    "# list of all functions\n",
    "funcs = {'f0': f0, 'f1': f1, 'f2': f2, 'f3': f3, 'f4': f4}\n",
    "\n",
    "# list of argument numbers required for each functions\n",
    "deps = {'f0': ['x0','x1'], 'f1': ['x1'], 'f2': ['x2'], 'f3': ['x0','x1'], 'f4': ['x0']}\n",
    "\n",
    "# sanity check\n",
    "assert(len(deps) == n_funcs)\n",
    "assert(len(funcs) == n_funcs)\n",
    "\n",
    "# list of all nodes\n",
    "nodes = list(funcs.keys()) + variables\n",
    "\n",
    "# sanity check\n",
    "assert(len(nodes) == n_vars + n_funcs)"
   ]
  },
  {
   "cell_type": "code",
   "execution_count": 135,
   "metadata": {
    "collapsed": true
   },
   "outputs": [],
   "source": [
    "# dictionaries merger\n",
    "# https://stackoverflow.com/questions/38987/how-to-merge-two-dictionaries-in-a-single-expression\n",
    "def merge_two_dicts(x, y):\n",
    "    z = x.copy()   # start with x's keys and values\n",
    "    z.update(y)    # modifies z with y's keys and values & returns None\n",
    "    return z\n",
    "\n",
    "# brute force marginalization\n",
    "def brute_marginalize1(sum_over, assignments):\n",
    "    if len(sum_over) == 0:\n",
    "        res = lambda x : 1.\n",
    "        for f in funcs.values():\n",
    "            res = lambda x, f=f, g=res, ass=assignments : f(merge_two_dicts(x, ass)) * g(merge_two_dicts(x, ass))\n",
    "        return res\n",
    "    var = sum_over[0]\n",
    "    result = lambda x : 0.\n",
    "    for value in var_space:\n",
    "        new_assignments = deepcopy(assignments)\n",
    "        new_assignments[var] = value\n",
    "        result = lambda x, f=brute_marginalize1(sum_over[1:], new_assignments),g=result : f(x) + g(x)\n",
    "    return result\n",
    "\n",
    "def brute_marginalize(variable):\n",
    "    sum_over = deepcopy(variables)\n",
    "    sum_over.remove(variable)\n",
    "    return lambda x, f=brute_marginalize1(sum_over, {}), v=variable : f({v : x})"
   ]
  },
  {
   "cell_type": "code",
   "execution_count": 136,
   "metadata": {},
   "outputs": [
    {
     "data": {
      "text/plain": [
       "54.0"
      ]
     },
     "execution_count": 136,
     "metadata": {},
     "output_type": "execute_result"
    }
   ],
   "source": [
    "brute_marginalize1([], {'x0': 1})({'x1': 2, 'x2': 3, 'x3': 4, 'x4': 5})"
   ]
  },
  {
   "cell_type": "code",
   "execution_count": 137,
   "metadata": {},
   "outputs": [
    {
     "data": {
      "text/plain": [
       "2504.0"
      ]
     },
     "execution_count": 137,
     "metadata": {},
     "output_type": "execute_result"
    }
   ],
   "source": [
    "brute_marginalize('x0')(1)"
   ]
  },
  {
   "cell_type": "code",
   "execution_count": 138,
   "metadata": {},
   "outputs": [
    {
     "name": "stdout",
     "output_type": "stream",
     "text": [
      "2504.0\n"
     ]
    }
   ],
   "source": [
    "all_vals = product([1], var_space, var_space)\n",
    "res = 0.\n",
    "for x0, x1, x2 in all_vals:\n",
    "    p = 1.\n",
    "    for f in funcs.values():\n",
    "        p *= f({'x0': x0, 'x1': x1, 'x2': x2})\n",
    "    res += p\n",
    "print(res)"
   ]
  },
  {
   "cell_type": "code",
   "execution_count": 139,
   "metadata": {
    "collapsed": true
   },
   "outputs": [],
   "source": [
    "# get siblings of a node in the factor graph\n",
    "def get_siblings(node):\n",
    "    if node[0] == 'f':\n",
    "        return deps[node]\n",
    "    elif node[0] == 'x':\n",
    "        return [key for key, value in deps.items() if node in value]\n",
    "\n",
    "# array with all of the messages\n",
    "messages = [[None] * len(nodes)] * len(nodes)"
   ]
  },
  {
   "cell_type": "code",
   "execution_count": 140,
   "metadata": {},
   "outputs": [
    {
     "name": "stdout",
     "output_type": "stream",
     "text": [
      "['f0', 'f3', 'f4']\n"
     ]
    }
   ],
   "source": [
    "print(get_siblings('x0'))"
   ]
  },
  {
   "cell_type": "code",
   "execution_count": null,
   "metadata": {
    "collapsed": true
   },
   "outputs": [],
   "source": []
  }
 ],
 "metadata": {
  "kernelspec": {
   "display_name": "Python 3",
   "language": "python",
   "name": "python3"
  },
  "language_info": {
   "codemirror_mode": {
    "name": "ipython",
    "version": 3
   },
   "file_extension": ".py",
   "mimetype": "text/x-python",
   "name": "python",
   "nbconvert_exporter": "python",
   "pygments_lexer": "ipython3",
   "version": "3.6.2"
  }
 },
 "nbformat": 4,
 "nbformat_minor": 2
}
