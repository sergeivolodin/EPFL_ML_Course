{
 "cells": [
  {
   "cell_type": "code",
   "execution_count": 1,
   "metadata": {},
   "outputs": [],
   "source": [
    "# Useful starting lines\n",
    "%matplotlib inline\n",
    "\n",
    "import random\n",
    "from datetime import datetime\n",
    "from scipy.sparse import diags\n",
    "\n",
    "import numpy as np\n",
    "import matplotlib.pyplot as plt\n",
    "%load_ext autoreload\n",
    "%autoreload 2"
   ]
  },
  {
   "cell_type": "markdown",
   "metadata": {},
   "source": [
    "# Support Vector Machines\n",
    "## Classification Using SVM\n",
    "Load dataset. We will re-use the CERN dataset from project 1, available from https://inclass.kaggle.com/c/epfml-project-1/data"
   ]
  },
  {
   "cell_type": "code",
   "execution_count": 2,
   "metadata": {},
   "outputs": [],
   "source": [
    "from helpers import load_csv_data\n",
    "\n",
    "DATA_TRAIN_PATH = 'data/train.csv'\n",
    "\n",
    "y, X1, ids = load_csv_data(DATA_TRAIN_PATH, sub_sample=True)"
   ]
  },
  {
   "cell_type": "code",
   "execution_count": 3,
   "metadata": {
    "collapsed": true
   },
   "outputs": [],
   "source": [
    "def standardize(x, std_x = None, mean_x = None, ignore_first = True):\n",
    "    \"\"\"Standardize the original data set.\"\"\"\n",
    "    x = np.copy(x)\n",
    "    if type(mean_x) == type(None):\n",
    "        mean_x = np.mean(x, axis=0)\n",
    "    x = x - mean_x\n",
    "    if ignore_first:\n",
    "        x[:,0] = 1\n",
    "    if type(std_x) == type(None):\n",
    "        std_x = np.std(x, axis=0)\n",
    "    for i in range(std_x.shape[0]):\n",
    "        if std_x[i] > 0: x[:, i] = x[:, i] / std_x[i]\n",
    "    return x, mean_x, std_x"
   ]
  },
  {
   "cell_type": "code",
   "execution_count": 4,
   "metadata": {},
   "outputs": [
    {
     "name": "stdout",
     "output_type": "stream",
     "text": [
      "(5000,) (5000, 30)\n"
     ]
    }
   ],
   "source": [
    "X, _, _ = standardize(X1, ignore_first = False)\n",
    "print(y.shape, X.shape)"
   ]
  },
  {
   "cell_type": "markdown",
   "metadata": {},
   "source": [
    "## Prepare cost and prediction functions"
   ]
  },
  {
   "cell_type": "code",
   "execution_count": 38,
   "metadata": {},
   "outputs": [
    {
     "data": {
      "text/plain": [
       "1"
      ]
     },
     "execution_count": 38,
     "metadata": {},
     "output_type": "execute_result"
    }
   ],
   "source": [
    "len(np.array([1,2,3]).shape)"
   ]
  },
  {
   "cell_type": "code",
   "execution_count": 45,
   "metadata": {},
   "outputs": [],
   "source": [
    "def calculate_primal_objective(y, X, w, lambda_):\n",
    "    \"\"\"compute the full cost (the primal objective), that is loss plus regularizer.\n",
    "    X: the full dataset matrix, shape = (num_examples, num_features)\n",
    "    y: the corresponding +1 or -1 labels, shape = (num_examples)\n",
    "    w: shape = (num_features)\n",
    "    \"\"\"\n",
    "    \n",
    "    assert(len(y.shape) == 1)\n",
    "    assert(len((X @ w).shape) == 1)\n",
    "    assert(y.shape == (X @ w).shape)\n",
    "    \n",
    "    return np.sum(np.maximum(0, 1 - np.multiply(y, X @ w))) + lambda_ / 2 * (w.T @ w)"
   ]
  },
  {
   "cell_type": "code",
   "execution_count": 29,
   "metadata": {
    "collapsed": true
   },
   "outputs": [],
   "source": [
    "def calculate_accuracy(y, X, w):\n",
    "    \"\"\"compute the training accuracy on the training set (can be called for test set as well).\n",
    "    X: the full dataset matrix, shape = (num_examples, num_features)\n",
    "    y: the corresponding +1 or -1 labels, shape = (num_examples)\n",
    "    w: shape = (num_features)\n",
    "    \"\"\"\n",
    "    \n",
    "    return np.mean((X @ w > 0) == (y > 0))"
   ]
  },
  {
   "cell_type": "markdown",
   "metadata": {},
   "source": [
    "## Stochastic Gradient Descent for SVM"
   ]
  },
  {
   "cell_type": "markdown",
   "metadata": {},
   "source": [
    "Compute the (stochastic) subgradient for the n-th summand of the SVM optimization objective"
   ]
  },
  {
   "cell_type": "code",
   "execution_count": 10,
   "metadata": {
    "collapsed": true
   },
   "outputs": [],
   "source": [
    "def calculate_stochastic_gradient(y, X, w, lambda_, n, num_examples):\n",
    "    \"\"\"compute the stochastic gradient of loss plus regularizer.\n",
    "    X: the dataset matrix, shape = (num_examples, num_features)\n",
    "    y: the corresponding +1 or -1 labels, shape = (num_examples)\n",
    "    w: shape = (num_features)\n",
    "    n: the index of the (one) datapoint we have sampled\n",
    "    num_examples: N\n",
    "    \"\"\"\n",
    "    # Be careful about the constant N (size) term!\n",
    "    # The complete objective for SVM is a sum, not an average as in earlier SGD examples!\n",
    "    x_n, y_n = X[n], y[n]\n",
    "    \n",
    "    return (-num_examples * y_n * x_n * np.sign(np.maximum(0, 1 - y_n * x_n.T @ w)) + lambda_ * w)"
   ]
  },
  {
   "cell_type": "markdown",
   "metadata": {},
   "source": [
    "Implement stochastic gradient descent: Pick a data point uniformly at random and update w based on the gradient for the n-th summand of the objective"
   ]
  },
  {
   "cell_type": "code",
   "execution_count": 11,
   "metadata": {},
   "outputs": [
    {
     "data": {
      "text/plain": [
       "(5000, 30)"
      ]
     },
     "execution_count": 11,
     "metadata": {},
     "output_type": "execute_result"
    }
   ],
   "source": [
    "X.shape"
   ]
  },
  {
   "cell_type": "code",
   "execution_count": 14,
   "metadata": {},
   "outputs": [
    {
     "name": "stdout",
     "output_type": "stream",
     "text": [
      "iteration=0, cost=9106565.82805988, acc=0.6232\n",
      "iteration=10000, cost=644652.0054721062, acc=0.6444\n",
      "iteration=20000, cost=530722.7162662051, acc=0.6476\n",
      "iteration=30000, cost=475563.27252475184, acc=0.648\n",
      "iteration=40000, cost=439614.3167058405, acc=0.6506\n",
      "iteration=50000, cost=414964.7366741004, acc=0.6486\n",
      "iteration=60000, cost=396205.30404099496, acc=0.6474\n",
      "iteration=70000, cost=380439.4896503361, acc=0.651\n",
      "iteration=80000, cost=367838.9408537437, acc=0.65\n",
      "iteration=90000, cost=356772.23181420425, acc=0.6534\n",
      "training accuracy = 0.6558\n"
     ]
    }
   ],
   "source": [
    "def sgd_for_svm_demo(y, X):\n",
    "    \n",
    "    max_iter = 100000\n",
    "    gamma = 1e-1\n",
    "    lambda_ = 0.1\n",
    "    \n",
    "    num_examples, num_features = X.shape\n",
    "    w = np.zeros(num_features)\n",
    "    \n",
    "    for it in range(max_iter):\n",
    "        # n = sample one data point uniformly at random data from x\n",
    "        n = random.randint(0,num_examples-1)\n",
    "        \n",
    "        grad = calculate_stochastic_gradient(y, X, w, lambda_, n, num_examples)\n",
    "        w -= gamma/(it+1) * grad\n",
    "        \n",
    "        if it % 10000 == 0:\n",
    "            cost = calculate_primal_objective(y, X, w, lambda_)\n",
    "            print(\"iteration={i}, cost={c}, acc={a}\".format(i=it, c=cost, a=calculate_accuracy(y, X, w)))\n",
    "    \n",
    "    print(\"training accuracy = {l}\".format(l=calculate_accuracy(y, X, w)))\n",
    "\n",
    "sgd_for_svm_demo(y, X)"
   ]
  },
  {
   "cell_type": "markdown",
   "metadata": {},
   "source": [
    "## Coordinate Descent (Ascent) for SVM"
   ]
  },
  {
   "cell_type": "markdown",
   "metadata": {},
   "source": [
    "Compute the closed-form update for the n-th variable alpha, in the dual optimization problem, given alpha and the current corresponding w"
   ]
  },
  {
   "cell_type": "code",
   "execution_count": 92,
   "metadata": {
    "collapsed": true
   },
   "outputs": [],
   "source": [
    "def calculate_coordinate_update(y, X, lambda_, alpha, w, n, gamma):\n",
    "    \"\"\"compute a coordinate update (closed form) for coordinate n.\n",
    "    X: the dataset matrix, shape = (num_examples, num_features)\n",
    "    y: the corresponding +1 or -1 labels, shape = (num_examples)\n",
    "    w: shape = (num_features)\n",
    "    n: the coordinate to be updated\n",
    "    \"\"\"\n",
    "    # ***************************************************\n",
    "    # INSERT YOUR CODE HERE\n",
    "    # TODO\n",
    "    # ***************************************************\n",
    "    # calculate the update of coordinate at index=n.\n",
    "    x_n, y_n = X[n], y[n]\n",
    "    old_alpha_n = np.copy(alpha[n])\n",
    "    \n",
    "    # w/o tricks\n",
    "    #Y = diags(y)\n",
    "    #alpha[n] = old_alpha_n + 1 - 1 / lambda_ * (Y @ X @ X.T @ Y @ alpha)[n]\n",
    "    #w = 1 / lambda_ * X.T @ Y @ alpha\n",
    "    \n",
    "    # full optimization\n",
    "    alpha_n_delta = lambda_ * (1. - y_n * x_n.T @ w) / (x_n.T @ x_n)\n",
    "    \n",
    "    #alpha_n_delta = (1 - y_n * x_n.dot(w)) * gamma\n",
    "    \n",
    "    #(Y @ X @ X.T @ Y)[n] @ alpha = lambda_\n",
    "    \n",
    "    if old_alpha_n + alpha_n_delta > 1:\n",
    "        alpha[n] = 1\n",
    "        alpha_n_delta = 1 - old_alpha_n\n",
    "    elif old_alpha_n + alpha_n_delta < 0:\n",
    "        alpha[n] = 0\n",
    "        alpha_n_delta = -old_alpha_n\n",
    "    else: alpha[n] = old_alpha_n + alpha_n_delta\n",
    "    \n",
    "    #print(alpha_n_delta)\n",
    "    \n",
    "    w += 1. / lambda_ * x_n * y_n * alpha_n_delta\n",
    "    \n",
    "    return w, alpha"
   ]
  },
  {
   "cell_type": "code",
   "execution_count": 93,
   "metadata": {
    "collapsed": true
   },
   "outputs": [],
   "source": [
    "def calculate_dual_objective(y, X, w, alpha, lambda_):\n",
    "    \"\"\"calculate the objective for the dual problem.\"\"\"\n",
    "    #Y = diags(y)\n",
    "    #return np.sum(alpha) - 0.5 / lambda_ * alpha.T @ Y @ X @ X.T @ Y @ alpha#return np.sum(alpha) - 0.5 / lambda_ * alpha.T @ Y @ X @ X.T @ Y @ alpha\n",
    "    return np.sum(alpha) - 0.5 * lambda_ * w.T @ w"
   ]
  },
  {
   "cell_type": "code",
   "execution_count": 94,
   "metadata": {},
   "outputs": [
    {
     "name": "stdout",
     "output_type": "stream",
     "text": [
      "iteration=0, primal:4965.85228, dual:0.03037, gap:4965.82191 alpha_comp:1 alpha_norm:0.06073 w_norm:0.24644 acc:0.50120\n",
      "iteration=100000, primal:3536.37529, dual:2517.96792, gap:1018.40737 alpha_comp:4579 alpha_norm:44.06510 w_norm:2.35840 acc:0.71540\n",
      "iteration=200000, primal:3272.24829, dual:3006.21853, gap:266.02976 alpha_comp:4112 alpha_norm:51.93818 w_norm:2.95712 acc:0.72440\n",
      "iteration=300000, primal:3231.13710, dual:3096.73872, gap:134.39838 alpha_comp:3843 alpha_norm:53.80751 w_norm:3.07849 acc:0.73780\n",
      "iteration=400000, primal:3177.86788, dual:3125.45677, gap:52.41111 alpha_comp:3659 alpha_norm:54.57878 w_norm:3.13827 acc:0.73080\n",
      "iteration=500000, primal:3185.43596, dual:3137.55701, gap:47.87894 alpha_comp:3560 alpha_norm:54.98855 w_norm:3.08897 acc:0.73740\n",
      "iteration=600000, primal:3163.58360, dual:3144.24595, gap:19.33765 alpha_comp:3499 alpha_norm:55.24676 w_norm:3.04529 acc:0.73700\n",
      "iteration=700000, primal:3166.60601, dual:3148.60874, gap:17.99727 alpha_comp:3447 alpha_norm:55.42941 w_norm:3.07869 acc:0.73660\n",
      "iteration=800000, primal:3164.09594, dual:3151.24035, gap:12.85559 alpha_comp:3397 alpha_norm:55.55979 w_norm:3.10401 acc:0.73360\n",
      "iteration=900000, primal:3164.41507, dual:3152.66222, gap:11.75285 alpha_comp:3354 alpha_norm:55.64978 w_norm:3.13440 acc:0.73840\n",
      "training accuracy = 0.7378\n"
     ]
    }
   ],
   "source": [
    "def coordinate_descent_for_svm_demo(y, X):\n",
    "    max_iter = 1000000\n",
    "    lambda_ = 1\n",
    "    gamma = 1e-10\n",
    "\n",
    "    num_examples, num_features = X.shape\n",
    "    w = np.zeros(num_features)\n",
    "    alpha = np.zeros(num_examples)\n",
    "    \n",
    "    for it in range(max_iter):\n",
    "        # n = sample one data point uniformly at random data from x\n",
    "        n = random.randint(0,num_examples-1)\n",
    "        \n",
    "        w, alpha = calculate_coordinate_update(y, X, lambda_, alpha, w, n, gamma)\n",
    "        #assert(np.max(alpha) <= 1)\n",
    "        #assert(np.min(alpha) >= 0)\n",
    "        #assert(np.allclose(w, 1. / lambda_ * X.T @ diags(y) @ alpha))\n",
    "        #assert(len(alpha.shape) == 1)\n",
    "        #assert(len(w.shape) == 1)\n",
    "            \n",
    "        if it % 100000 == 0:\n",
    "            accuracy = calculate_accuracy(y, X, w)\n",
    "            # primal objective\n",
    "            primal_value = calculate_primal_objective(y, X, w, lambda_)\n",
    "            # dual objective\n",
    "            dual_value = calculate_dual_objective(y, X, w, alpha, lambda_)\n",
    "            # primal dual gap\n",
    "            duality_gap = primal_value - dual_value\n",
    "            print('iteration=%i, primal:%.5f, dual:%.5f, gap:%.5f alpha_comp:%d alpha_norm:%.5f w_norm:%.5f acc:%.5f'%(\n",
    "                    it, primal_value, dual_value, duality_gap, np.sum(alpha > 0), np.linalg.norm(alpha),\n",
    "            np.linalg.norm(w), accuracy))\n",
    "    print(\"training accuracy = {l}\".format(l=calculate_accuracy(y, X, w)))\n",
    "\n",
    "coordinate_descent_for_svm_demo(y, X)"
   ]
  },
  {
   "cell_type": "code",
   "execution_count": null,
   "metadata": {
    "collapsed": true
   },
   "outputs": [],
   "source": []
  }
 ],
 "metadata": {
  "anaconda-cloud": {},
  "kernelspec": {
   "display_name": "Python 3",
   "language": "python",
   "name": "python3"
  },
  "language_info": {
   "codemirror_mode": {
    "name": "ipython",
    "version": 3
   },
   "file_extension": ".py",
   "mimetype": "text/x-python",
   "name": "python",
   "nbconvert_exporter": "python",
   "pygments_lexer": "ipython3",
   "version": "3.6.2"
  }
 },
 "nbformat": 4,
 "nbformat_minor": 1
}
