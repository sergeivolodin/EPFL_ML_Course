{
 "cells": [
  {
   "cell_type": "code",
   "execution_count": 1,
   "metadata": {},
   "outputs": [],
   "source": [
    "# Useful starting lines\n",
    "%matplotlib inline\n",
    "\n",
    "import random\n",
    "from datetime import datetime\n",
    "from scipy.sparse import diags\n",
    "\n",
    "import numpy as np\n",
    "import matplotlib.pyplot as plt\n",
    "%load_ext autoreload\n",
    "%autoreload 2"
   ]
  },
  {
   "cell_type": "markdown",
   "metadata": {},
   "source": [
    "# Support Vector Machines\n",
    "## Classification Using SVM\n",
    "Load dataset. We will re-use the CERN dataset from project 1, available from https://inclass.kaggle.com/c/epfml-project-1/data"
   ]
  },
  {
   "cell_type": "code",
   "execution_count": 2,
   "metadata": {},
   "outputs": [],
   "source": [
    "from helpers import load_csv_data\n",
    "\n",
    "DATA_TRAIN_PATH = 'data/train.csv'\n",
    "\n",
    "y, X1, ids = load_csv_data(DATA_TRAIN_PATH, sub_sample=True)"
   ]
  },
  {
   "cell_type": "code",
   "execution_count": 3,
   "metadata": {
    "collapsed": true
   },
   "outputs": [],
   "source": [
    "def standardize(x, std_x = None, mean_x = None, ignore_first = True):\n",
    "    \"\"\"Standardize the original data set.\"\"\"\n",
    "    x = np.copy(x)\n",
    "    if type(mean_x) == type(None):\n",
    "        mean_x = np.mean(x, axis=0)\n",
    "    x = x - mean_x\n",
    "    if ignore_first:\n",
    "        x[:,0] = 1\n",
    "    if type(std_x) == type(None):\n",
    "        std_x = np.std(x, axis=0)\n",
    "    for i in range(std_x.shape[0]):\n",
    "        if std_x[i] > 0: x[:, i] = x[:, i] / std_x[i]\n",
    "    return x, mean_x, std_x"
   ]
  },
  {
   "cell_type": "code",
   "execution_count": 4,
   "metadata": {},
   "outputs": [
    {
     "name": "stdout",
     "output_type": "stream",
     "text": [
      "(5000,) (5000, 30)\n"
     ]
    }
   ],
   "source": [
    "X, _, _ = standardize(X1, ignore_first = False)\n",
    "print(y.shape, X.shape)"
   ]
  },
  {
   "cell_type": "markdown",
   "metadata": {},
   "source": [
    "## Prepare cost and prediction functions"
   ]
  },
  {
   "cell_type": "code",
   "execution_count": 38,
   "metadata": {},
   "outputs": [
    {
     "data": {
      "text/plain": [
       "1"
      ]
     },
     "execution_count": 38,
     "metadata": {},
     "output_type": "execute_result"
    }
   ],
   "source": [
    "len(np.array([1,2,3]).shape)"
   ]
  },
  {
   "cell_type": "code",
   "execution_count": 45,
   "metadata": {},
   "outputs": [],
   "source": [
    "def calculate_primal_objective(y, X, w, lambda_):\n",
    "    \"\"\"compute the full cost (the primal objective), that is loss plus regularizer.\n",
    "    X: the full dataset matrix, shape = (num_examples, num_features)\n",
    "    y: the corresponding +1 or -1 labels, shape = (num_examples)\n",
    "    w: shape = (num_features)\n",
    "    \"\"\"\n",
    "    \n",
    "    assert(len(y.shape) == 1)\n",
    "    assert(len((X @ w).shape) == 1)\n",
    "    assert(y.shape == (X @ w).shape)\n",
    "    \n",
    "    return np.sum(np.maximum(0, 1 - np.multiply(y, X @ w))) + lambda_ / 2 * (w.T @ w)"
   ]
  },
  {
   "cell_type": "code",
   "execution_count": 29,
   "metadata": {
    "collapsed": true
   },
   "outputs": [],
   "source": [
    "def calculate_accuracy(y, X, w):\n",
    "    \"\"\"compute the training accuracy on the training set (can be called for test set as well).\n",
    "    X: the full dataset matrix, shape = (num_examples, num_features)\n",
    "    y: the corresponding +1 or -1 labels, shape = (num_examples)\n",
    "    w: shape = (num_features)\n",
    "    \"\"\"\n",
    "    \n",
    "    return np.mean((X @ w > 0) == (y > 0))"
   ]
  },
  {
   "cell_type": "markdown",
   "metadata": {},
   "source": [
    "## Stochastic Gradient Descent for SVM"
   ]
  },
  {
   "cell_type": "markdown",
   "metadata": {},
   "source": [
    "Compute the (stochastic) subgradient for the n-th summand of the SVM optimization objective"
   ]
  },
  {
   "cell_type": "code",
   "execution_count": 10,
   "metadata": {
    "collapsed": true
   },
   "outputs": [],
   "source": [
    "def calculate_stochastic_gradient(y, X, w, lambda_, n, num_examples):\n",
    "    \"\"\"compute the stochastic gradient of loss plus regularizer.\n",
    "    X: the dataset matrix, shape = (num_examples, num_features)\n",
    "    y: the corresponding +1 or -1 labels, shape = (num_examples)\n",
    "    w: shape = (num_features)\n",
    "    n: the index of the (one) datapoint we have sampled\n",
    "    num_examples: N\n",
    "    \"\"\"\n",
    "    # Be careful about the constant N (size) term!\n",
    "    # The complete objective for SVM is a sum, not an average as in earlier SGD examples!\n",
    "    x_n, y_n = X[n], y[n]\n",
    "    \n",
    "    return (-num_examples * y_n * x_n * np.sign(np.maximum(0, 1 - y_n * x_n.T @ w)) + lambda_ * w)"
   ]
  },
  {
   "cell_type": "markdown",
   "metadata": {},
   "source": [
    "Implement stochastic gradient descent: Pick a data point uniformly at random and update w based on the gradient for the n-th summand of the objective"
   ]
  },
  {
   "cell_type": "code",
   "execution_count": 11,
   "metadata": {},
   "outputs": [
    {
     "data": {
      "text/plain": [
       "(5000, 30)"
      ]
     },
     "execution_count": 11,
     "metadata": {},
     "output_type": "execute_result"
    }
   ],
   "source": [
    "X.shape"
   ]
  },
  {
   "cell_type": "code",
   "execution_count": 14,
   "metadata": {},
   "outputs": [
    {
     "name": "stdout",
     "output_type": "stream",
     "text": [
      "iteration=0, cost=9106565.82805988, acc=0.6232\n",
      "iteration=10000, cost=644652.0054721062, acc=0.6444\n",
      "iteration=20000, cost=530722.7162662051, acc=0.6476\n",
      "iteration=30000, cost=475563.27252475184, acc=0.648\n",
      "iteration=40000, cost=439614.3167058405, acc=0.6506\n",
      "iteration=50000, cost=414964.7366741004, acc=0.6486\n",
      "iteration=60000, cost=396205.30404099496, acc=0.6474\n",
      "iteration=70000, cost=380439.4896503361, acc=0.651\n",
      "iteration=80000, cost=367838.9408537437, acc=0.65\n",
      "iteration=90000, cost=356772.23181420425, acc=0.6534\n",
      "training accuracy = 0.6558\n"
     ]
    }
   ],
   "source": [
    "def sgd_for_svm_demo(y, X):\n",
    "    \n",
    "    max_iter = 100000\n",
    "    gamma = 1e-1\n",
    "    lambda_ = 0.1\n",
    "    \n",
    "    num_examples, num_features = X.shape\n",
    "    w = np.zeros(num_features)\n",
    "    \n",
    "    for it in range(max_iter):\n",
    "        # n = sample one data point uniformly at random data from x\n",
    "        n = random.randint(0,num_examples-1)\n",
    "        \n",
    "        grad = calculate_stochastic_gradient(y, X, w, lambda_, n, num_examples)\n",
    "        w -= gamma/(it+1) * grad\n",
    "        \n",
    "        if it % 10000 == 0:\n",
    "            cost = calculate_primal_objective(y, X, w, lambda_)\n",
    "            print(\"iteration={i}, cost={c}, acc={a}\".format(i=it, c=cost, a=calculate_accuracy(y, X, w)))\n",
    "    \n",
    "    print(\"training accuracy = {l}\".format(l=calculate_accuracy(y, X, w)))\n",
    "\n",
    "sgd_for_svm_demo(y, X)"
   ]
  },
  {
   "cell_type": "markdown",
   "metadata": {},
   "source": [
    "## Coordinate Descent (Ascent) for SVM"
   ]
  },
  {
   "cell_type": "markdown",
   "metadata": {},
   "source": [
    "Compute the closed-form update for the n-th variable alpha, in the dual optimization problem, given alpha and the current corresponding w"
   ]
  },
  {
   "cell_type": "code",
   "execution_count": 68,
   "metadata": {
    "collapsed": true
   },
   "outputs": [],
   "source": [
    "def calculate_coordinate_update(y, X, lambda_, alpha, w, n, gamma):\n",
    "    \"\"\"compute a coordinate update (closed form) for coordinate n.\n",
    "    X: the dataset matrix, shape = (num_examples, num_features)\n",
    "    y: the corresponding +1 or -1 labels, shape = (num_examples)\n",
    "    w: shape = (num_features)\n",
    "    n: the coordinate to be updated\n",
    "    \"\"\"\n",
    "    # ***************************************************\n",
    "    # INSERT YOUR CODE HERE\n",
    "    # TODO\n",
    "    # ***************************************************\n",
    "    # calculate the update of coordinate at index=n.\n",
    "    x_n, y_n = X[n], y[n]\n",
    "    old_alpha_n = np.copy(alpha[n])\n",
    "    \n",
    "    # w/o tricks\n",
    "    #Y = diags(y)\n",
    "    #alpha[n] = old_alpha_n + 1 - 1 / lambda_ * (Y @ X @ X.T @ Y @ alpha)[n]\n",
    "    #w = 1 / lambda_ * X.T @ Y @ alpha\n",
    "    \n",
    "    alpha_n_delta = (1 - y_n * x_n.dot(w)) * gamma\n",
    "    \n",
    "    #(Y @ X @ X.T @ Y)[n] @ alpha = lambda_\n",
    "    \n",
    "    if old_alpha_n + alpha_n_delta > 1:\n",
    "        alpha[n] = 1\n",
    "        alpha_n_delta = 1 - old_alpha_n\n",
    "    elif old_alpha_n + alpha_n_delta < 0:\n",
    "        alpha[n] = 0\n",
    "        alpha_n_delta = -old_alpha_n\n",
    "    else: alpha[n] = old_alpha_n + alpha_n_delta\n",
    "    \n",
    "    #print(alpha_n_delta)\n",
    "    \n",
    "    w += 1. / lambda_ * x_n * y_n * alpha_n_delta\n",
    "    \n",
    "    return w, alpha"
   ]
  },
  {
   "cell_type": "code",
   "execution_count": 69,
   "metadata": {
    "collapsed": true
   },
   "outputs": [],
   "source": [
    "def calculate_dual_objective(y, X, w, alpha, lambda_):\n",
    "    \"\"\"calculate the objective for the dual problem.\"\"\"\n",
    "    #Y = diags(y)\n",
    "    #return np.sum(alpha) - 0.5 / lambda_ * alpha.T @ Y @ X @ X.T @ Y @ alpha#return np.sum(alpha) - 0.5 / lambda_ * alpha.T @ Y @ X @ X.T @ Y @ alpha\n",
    "    return np.sum(alpha) - 0.5 * lambda_ * w.T @ w"
   ]
  },
  {
   "cell_type": "code",
   "execution_count": null,
   "metadata": {},
   "outputs": [
    {
     "name": "stdout",
     "output_type": "stream",
     "text": [
      "iteration=0, primal:4997.61361, dual:0.00001, gap:4997.61360 alpha_comp:1 alpha_norm:0.00001 w_norm:0.00070 acc:0.65160\n",
      "iteration=100000, primal:3935.21967, dual:0.79583, gap:3934.42384 alpha_comp:4956 alpha_norm:0.01284 w_norm:0.58566 acc:0.72400\n"
     ]
    }
   ],
   "source": [
    "def coordinate_descent_for_svm_demo(y, X):\n",
    "    max_iter = 1000000\n",
    "    lambda_ = 0.1\n",
    "    gamma = 1e-5\n",
    "\n",
    "    num_examples, num_features = X.shape\n",
    "    w = np.zeros(num_features)\n",
    "    alpha = np.zeros(num_examples)\n",
    "    \n",
    "    for it in range(max_iter):\n",
    "        # n = sample one data point uniformly at random data from x\n",
    "        n = random.randint(0,num_examples-1)\n",
    "        \n",
    "        w, alpha = calculate_coordinate_update(y, X, lambda_, alpha, w, n, gamma)\n",
    "        #assert(np.max(alpha) <= 1)\n",
    "        #assert(np.min(alpha) >= 0)\n",
    "        #assert(np.allclose(w, 1. / lambda_ * X.T @ diags(y) @ alpha))\n",
    "        #assert(len(alpha.shape) == 1)\n",
    "        #assert(len(w.shape) == 1)\n",
    "            \n",
    "        if it % 100000 == 0:\n",
    "            accuracy = calculate_accuracy(y, X, w)\n",
    "            # primal objective\n",
    "            primal_value = calculate_primal_objective(y, X, w, lambda_)\n",
    "            # dual objective\n",
    "            dual_value = calculate_dual_objective(y, X, w, alpha, lambda_)\n",
    "            # primal dual gap\n",
    "            duality_gap = primal_value - dual_value\n",
    "            print('iteration=%i, primal:%.5f, dual:%.5f, gap:%.5f alpha_comp:%d alpha_norm:%.5f w_norm:%.5f acc:%.5f'%(\n",
    "                    it, primal_value, dual_value, duality_gap, np.sum(alpha > 0), np.linalg.norm(alpha),\n",
    "            np.linalg.norm(w), accuracy))\n",
    "    print(\"training accuracy = {l}\".format(l=calculate_accuracy(y, X, w)))\n",
    "\n",
    "coordinate_descent_for_svm_demo(y, X)"
   ]
  },
  {
   "cell_type": "raw",
   "metadata": {
    "collapsed": true
   },
   "source": []
  },
  {
   "cell_type": "code",
   "execution_count": null,
   "metadata": {
    "collapsed": true
   },
   "outputs": [],
   "source": []
  }
 ],
 "metadata": {
  "anaconda-cloud": {},
  "kernelspec": {
   "display_name": "Python 3",
   "language": "python",
   "name": "python3"
  },
  "language_info": {
   "codemirror_mode": {
    "name": "ipython",
    "version": 3
   },
   "file_extension": ".py",
   "mimetype": "text/x-python",
   "name": "python",
   "nbconvert_exporter": "python",
   "pygments_lexer": "ipython3",
   "version": "3.6.2"
  }
 },
 "nbformat": 4,
 "nbformat_minor": 1
}
