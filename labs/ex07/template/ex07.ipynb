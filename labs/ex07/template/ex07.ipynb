{
 "cells": [
  {
   "cell_type": "code",
   "execution_count": 20,
   "metadata": {},
   "outputs": [
    {
     "name": "stdout",
     "output_type": "stream",
     "text": [
      "The autoreload extension is already loaded. To reload it, use:\n",
      "  %reload_ext autoreload\n"
     ]
    }
   ],
   "source": [
    "# Useful starting lines\n",
    "%matplotlib inline\n",
    "\n",
    "import random\n",
    "from datetime import datetime\n",
    "from scipy.sparse import diags\n",
    "\n",
    "import numpy as np\n",
    "import matplotlib.pyplot as plt\n",
    "%load_ext autoreload\n",
    "%autoreload 2"
   ]
  },
  {
   "cell_type": "markdown",
   "metadata": {},
   "source": [
    "# Support Vector Machines\n",
    "## Classification Using SVM\n",
    "Load dataset. We will re-use the CERN dataset from project 1, available from https://inclass.kaggle.com/c/epfml-project-1/data"
   ]
  },
  {
   "cell_type": "code",
   "execution_count": 2,
   "metadata": {},
   "outputs": [
    {
     "ename": "NameError",
     "evalue": "name 'X' is not defined",
     "output_type": "error",
     "traceback": [
      "\u001b[0;31m---------------------------------------------------------------------------\u001b[0m",
      "\u001b[0;31mNameError\u001b[0m                                 Traceback (most recent call last)",
      "\u001b[0;32m<ipython-input-2-76c503ecf764>\u001b[0m in \u001b[0;36m<module>\u001b[0;34m()\u001b[0m\n\u001b[1;32m      4\u001b[0m \u001b[0;34m\u001b[0m\u001b[0m\n\u001b[1;32m      5\u001b[0m \u001b[0my\u001b[0m\u001b[0;34m,\u001b[0m \u001b[0mX1\u001b[0m\u001b[0;34m,\u001b[0m \u001b[0mids\u001b[0m \u001b[0;34m=\u001b[0m \u001b[0mload_csv_data\u001b[0m\u001b[0;34m(\u001b[0m\u001b[0mDATA_TRAIN_PATH\u001b[0m\u001b[0;34m,\u001b[0m \u001b[0msub_sample\u001b[0m\u001b[0;34m=\u001b[0m\u001b[0;32mTrue\u001b[0m\u001b[0;34m)\u001b[0m\u001b[0;34m\u001b[0m\u001b[0m\n\u001b[0;32m----> 6\u001b[0;31m \u001b[0mprint\u001b[0m\u001b[0;34m(\u001b[0m\u001b[0my\u001b[0m\u001b[0;34m.\u001b[0m\u001b[0mshape\u001b[0m\u001b[0;34m,\u001b[0m \u001b[0mX\u001b[0m\u001b[0;34m.\u001b[0m\u001b[0mshape\u001b[0m\u001b[0;34m)\u001b[0m\u001b[0;34m\u001b[0m\u001b[0m\n\u001b[0m",
      "\u001b[0;31mNameError\u001b[0m: name 'X' is not defined"
     ]
    }
   ],
   "source": [
    "from helpers import load_csv_data\n",
    "\n",
    "DATA_TRAIN_PATH = 'data/train.csv'\n",
    "\n",
    "y, X1, ids = load_csv_data(DATA_TRAIN_PATH, sub_sample=True)"
   ]
  },
  {
   "cell_type": "code",
   "execution_count": 6,
   "metadata": {
    "collapsed": true
   },
   "outputs": [],
   "source": [
    "def standardize(x, std_x = None, mean_x = None, ignore_first = True):\n",
    "    \"\"\"Standardize the original data set.\"\"\"\n",
    "    x = np.copy(x)\n",
    "    if type(mean_x) == type(None):\n",
    "        mean_x = np.mean(x, axis=0)\n",
    "    x = x - mean_x\n",
    "    if ignore_first:\n",
    "        x[:,0] = 1\n",
    "    if type(std_x) == type(None):\n",
    "        std_x = np.std(x, axis=0)\n",
    "    for i in range(std_x.shape[0]):\n",
    "        if std_x[i] > 0: x[:, i] = x[:, i] / std_x[i]\n",
    "    return x, mean_x, std_x"
   ]
  },
  {
   "cell_type": "code",
   "execution_count": 8,
   "metadata": {},
   "outputs": [
    {
     "name": "stdout",
     "output_type": "stream",
     "text": [
      "(5000,) (5000, 30)\n"
     ]
    }
   ],
   "source": [
    "X, _, _ = standardize(X1, ignore_first = False)\n",
    "print(y.shape, X.shape)"
   ]
  },
  {
   "cell_type": "markdown",
   "metadata": {},
   "source": [
    "## Prepare cost and prediction functions"
   ]
  },
  {
   "cell_type": "code",
   "execution_count": 10,
   "metadata": {
    "collapsed": true
   },
   "outputs": [],
   "source": [
    "def calculate_primal_objective(y, X, w, lambda_):\n",
    "    \"\"\"compute the full cost (the primal objective), that is loss plus regularizer.\n",
    "    X: the full dataset matrix, shape = (num_examples, num_features)\n",
    "    y: the corresponding +1 or -1 labels, shape = (num_examples)\n",
    "    w: shape = (num_features)\n",
    "    \"\"\"\n",
    "    \n",
    "    return np.sum(np.maximum(0, 1 - np.multiply(y.flatten(), (X @ w).flatten()))) + lambda_ / 2 * (w.T @ w)"
   ]
  },
  {
   "cell_type": "code",
   "execution_count": 11,
   "metadata": {
    "collapsed": true
   },
   "outputs": [],
   "source": [
    "def calculate_accuracy(y, X, w):\n",
    "    \"\"\"compute the training accuracy on the training set (can be called for test set as well).\n",
    "    X: the full dataset matrix, shape = (num_examples, num_features)\n",
    "    y: the corresponding +1 or -1 labels, shape = (num_examples)\n",
    "    w: shape = (num_features)\n",
    "    \"\"\"\n",
    "    \n",
    "    return np.mean((X @ w > 0) == (y > 0))"
   ]
  },
  {
   "cell_type": "markdown",
   "metadata": {},
   "source": [
    "## Stochastic Gradient Descent for SVM"
   ]
  },
  {
   "cell_type": "markdown",
   "metadata": {},
   "source": [
    "Compute the (stochastic) subgradient for the n-th summand of the SVM optimization objective"
   ]
  },
  {
   "cell_type": "code",
   "execution_count": 12,
   "metadata": {
    "collapsed": true
   },
   "outputs": [],
   "source": [
    "def calculate_stochastic_gradient(y, X, w, lambda_, n, num_examples):\n",
    "    \"\"\"compute the stochastic gradient of loss plus regularizer.\n",
    "    X: the dataset matrix, shape = (num_examples, num_features)\n",
    "    y: the corresponding +1 or -1 labels, shape = (num_examples)\n",
    "    w: shape = (num_features)\n",
    "    n: the index of the (one) datapoint we have sampled\n",
    "    num_examples: N\n",
    "    \"\"\"\n",
    "    # Be careful about the constant N (size) term!\n",
    "    # The complete objective for SVM is a sum, not an average as in earlier SGD examples!\n",
    "    x_n, y_n = X[n], y[n]\n",
    "    \n",
    "    return (-num_examples * y_n * x_n * np.maximum(0, 1 - y_n * x_n.T @ w) + lambda_ * w)"
   ]
  },
  {
   "cell_type": "markdown",
   "metadata": {},
   "source": [
    "Implement stochastic gradient descent: Pick a data point uniformly at random and update w based on the gradient for the n-th summand of the objective"
   ]
  },
  {
   "cell_type": "code",
   "execution_count": 13,
   "metadata": {},
   "outputs": [
    {
     "data": {
      "text/plain": [
       "(5000, 30)"
      ]
     },
     "execution_count": 13,
     "metadata": {},
     "output_type": "execute_result"
    }
   ],
   "source": [
    "X.shape"
   ]
  },
  {
   "cell_type": "code",
   "execution_count": 15,
   "metadata": {},
   "outputs": [
    {
     "name": "stdout",
     "output_type": "stream",
     "text": [
      "iteration=0, cost=9162.76155325376, acc=0.4612\n",
      "iteration=10000, cost=4524.505362916388, acc=0.6354\n",
      "iteration=20000, cost=4382.754845841041, acc=0.6374\n",
      "iteration=30000, cost=4304.855052218118, acc=0.6418\n",
      "iteration=40000, cost=4288.665283215413, acc=0.6426\n",
      "iteration=50000, cost=4256.959610216728, acc=0.645\n",
      "iteration=60000, cost=4233.196572494346, acc=0.6462\n",
      "iteration=70000, cost=4202.458438127098, acc=0.6492\n",
      "iteration=80000, cost=4205.018803121497, acc=0.6478\n",
      "iteration=90000, cost=4178.252816428664, acc=0.6504\n",
      "training accuracy = 0.653\n"
     ]
    }
   ],
   "source": [
    "def sgd_for_svm_demo(y, X):\n",
    "    \n",
    "    max_iter = 100000\n",
    "    gamma = 1e-4\n",
    "    lambda_ = 0.1\n",
    "    \n",
    "    num_examples, num_features = X.shape\n",
    "    w = np.zeros(num_features)\n",
    "    \n",
    "    for it in range(max_iter):\n",
    "        # n = sample one data point uniformly at random data from x\n",
    "        n = random.randint(0,num_examples-1)\n",
    "        \n",
    "        grad = calculate_stochastic_gradient(y, X, w, lambda_, n, num_examples)\n",
    "        w -= gamma/(it+1) * grad\n",
    "        \n",
    "        if it % 10000 == 0:\n",
    "            cost = calculate_primal_objective(y, X, w, lambda_)\n",
    "            print(\"iteration={i}, cost={c}, acc={a}\".format(i=it, c=cost, a=calculate_accuracy(y, X, w)))\n",
    "    \n",
    "    print(\"training accuracy = {l}\".format(l=calculate_accuracy(y, X, w)))\n",
    "\n",
    "sgd_for_svm_demo(y, X)"
   ]
  },
  {
   "cell_type": "markdown",
   "metadata": {},
   "source": [
    "## Coordinate Descent (Ascent) for SVM"
   ]
  },
  {
   "cell_type": "markdown",
   "metadata": {},
   "source": [
    "Compute the closed-form update for the n-th variable alpha, in the dual optimization problem, given alpha and the current corresponding w"
   ]
  },
  {
   "cell_type": "code",
   "execution_count": 84,
   "metadata": {},
   "outputs": [],
   "source": [
    "def calculate_coordinate_update(y, X, lambda_, alpha, w, n):\n",
    "    \"\"\"compute a coordinate update (closed form) for coordinate n.\n",
    "    X: the dataset matrix, shape = (num_examples, num_features)\n",
    "    y: the corresponding +1 or -1 labels, shape = (num_examples)\n",
    "    w: shape = (num_features)\n",
    "    n: the coordinate to be updated\n",
    "    \"\"\"\n",
    "    # ***************************************************\n",
    "    # INSERT YOUR CODE HERE\n",
    "    # TODO\n",
    "    # ***************************************************\n",
    "    # calculate the update of coordinate at index=n.\n",
    "    x_n, y_n = X[n], y[n]\n",
    "    old_alpha_n = np.copy(alpha[n])\n",
    "    \n",
    "    # w/o tricks\n",
    "    #Y = diags(y)\n",
    "    #alpha[n] = old_alpha_n + 1 - 1 / lambda_ * (Y @ X @ X.T @ Y @ alpha)[n]\n",
    "    #w = 1 / lambda_ * X.T @ Y @ alpha\n",
    "    \n",
    "    alpha_n_delta = np.mean(1. - y_n * x_n @ w) / X.shape[0]\n",
    "    \n",
    "    #(Y @ X @ X.T @ Y)[n] @ alpha = lambda_\n",
    "    \n",
    "    if old_alpha_n + alpha_n_delta > 1:\n",
    "        alpha[n] = 1\n",
    "        alpha_n_delta = 1 - old_alpha_n\n",
    "    elif old_alpha_n + alpha_n_delta < 0:\n",
    "        alpha[n] = 0\n",
    "        alpha_n_delta = -old_alpha_n\n",
    "    else: alpha[n] = old_alpha_n + alpha_n_delta\n",
    "    \n",
    "    print(alpha_n_delta)\n",
    "    \n",
    "    w += 1. / lambda_ * x_n * y_n * alpha_n_delta\n",
    "    \n",
    "    return w, alpha"
   ]
  },
  {
   "cell_type": "code",
   "execution_count": 85,
   "metadata": {
    "collapsed": true
   },
   "outputs": [],
   "source": [
    "def calculate_dual_objective(y, X, w, alpha, lambda_):\n",
    "    \"\"\"calculate the objective for the dual problem.\"\"\"\n",
    "    #Y = diags(y)\n",
    "    #return np.sum(alpha) - 0.5 / lambda_ * alpha.T @ Y @ X @ X.T @ Y @ alpha#return np.sum(alpha) - 0.5 / lambda_ * alpha.T @ Y @ X @ X.T @ Y @ alpha\n",
    "    return np.sum(alpha) - 0.5 / lambda_ * w.T @ w"
   ]
  },
  {
   "cell_type": "code",
   "execution_count": 86,
   "metadata": {},
   "outputs": [
    {
     "name": "stdout",
     "output_type": "stream",
     "text": [
      "0.0002\n",
      "iteration=0, primal:4987.50162, dual:-0.00028, gap:4987.50190 alpha_comp:1 alpha_norm:0.00020 w_norm:0.00980\n",
      "0.000201405892279\n",
      "0.000197257020213\n",
      "0.000207570140295\n",
      "0.000207218805539\n",
      "0.000193194363066\n",
      "0.0002046815101\n",
      "0.000191508248147\n",
      "0.000217543243692\n",
      "0.000212446551568\n",
      "0.00019956542187\n",
      "0.000190832466701\n",
      "0.00020645231403\n",
      "0.000200177240568\n",
      "0.000206780994966\n",
      "0.000204612023452\n",
      "0.000205717362062\n",
      "0.00020077451535\n",
      "0.000197108102753\n",
      "0.000194197447643\n",
      "0.000200186813588\n",
      "0.000188176760829\n",
      "0.000186060098671\n",
      "0.000211908038626\n",
      "0.000185708544028\n",
      "0.00025443595152\n",
      "0.000200227047287\n",
      "0.000198982928405\n",
      "0.000199270238783\n",
      "0.000205035369609\n",
      "0.000193048850457\n",
      "0.000214762470196\n",
      "0.000211406141171\n",
      "0.000188820669982\n",
      "0.000211271654975\n",
      "0.00020554573034\n",
      "0.000202557948462\n",
      "0.000207333352149\n",
      "0.000209977375049\n",
      "0.000216923661062\n",
      "0.000206232694413\n",
      "0.000196932042985\n",
      "0.000187533268602\n",
      "0.000212317660916\n",
      "0.000201306232551\n",
      "0.000191752929948\n",
      "0.000197688697702\n",
      "0.000198456796599\n",
      "0.000191714314237\n",
      "0.0001970936693\n",
      "0.000192586090312\n",
      "0.000215680572591\n",
      "0.000213484092681\n",
      "0.000191342663779\n",
      "0.000214426731988\n",
      "0.000202440066193\n",
      "0.000205462898825\n",
      "0.000172883292198\n",
      "0.000206378440271\n",
      "0.000214802091537\n",
      "0.000190554324706\n",
      "0.0002171204009\n",
      "0.000170379409418\n",
      "0.000184636541795\n",
      "0.000207395777268\n",
      "0.000191296883646\n",
      "0.000203619918304\n",
      "0.000191669530426\n",
      "0.000203663806815\n",
      "0.000191825916581\n",
      "0.000204250224433\n",
      "0.000216209781717\n",
      "0.000183727650021\n",
      "0.000206115076382\n",
      "0.000211932165486\n",
      "0.000217436339315\n",
      "0.000184423528732\n",
      "0.000173908663613\n",
      "0.0001584172393\n",
      "0.00018627355072\n",
      "0.000179830760666\n",
      "0.000198355349415\n",
      "0.000228738288842\n",
      "0.000181959516594\n",
      "0.00015851244932\n",
      "0.000195104036304\n",
      "0.00018599480772\n",
      "0.000179445594403\n",
      "0.000158397810223\n",
      "0.000153809168792\n",
      "0.000177732651466\n",
      "0.000166617111065\n",
      "0.000144996430689\n",
      "0.000121800316244\n",
      "0.000246954251973\n",
      "0.000188728272003\n",
      "0.000152092705052\n",
      "0.000225277807927\n",
      "0.000250248875794\n",
      "0.000162404352906\n",
      "0.000140035229146\n",
      "iteration=100, primal:4655.44620, dual:-0.05383, gap:4655.50003 alpha_comp:101 alpha_norm:0.00198 w_norm:0.12138\n",
      "0.000207059430307\n",
      "0.000198037449255\n",
      "0.000179642829777\n",
      "0.000166315635153\n",
      "0.000128889899267\n",
      "0.0002257139908\n",
      "0.000118064503698\n",
      "0.000208973597271\n",
      "0.00010380558295\n",
      "0.000253104250816\n",
      "0.000168932289981\n",
      "0.000136942040239\n",
      "0.000185326713445\n",
      "0.00020022445056\n",
      "0.000158738137244\n",
      "0.000239191011587\n",
      "0.00013997725715\n",
      "0.000209142067422\n",
      "0.000181024992414\n",
      "0.000219404163907\n",
      "0.000235861998412\n",
      "0.00018214096202\n",
      "0.000154673334678\n",
      "0.000178557783775\n",
      "0.000138387094954\n",
      "0.000121434958564\n",
      "0.000144526826645\n",
      "0.000102609289498\n",
      "0.000156102529856\n",
      "8.7051653352e-05\n",
      "0.000202756528045\n",
      "7.55853320712e-05\n",
      "0.000144963368943\n",
      "0.000212876095234\n",
      "0.000260965289919\n",
      "0.000105025263995\n",
      "0.000140730273462\n",
      "0.000173146407637\n",
      "0.000135334660908\n",
      "0.000220764067817\n",
      "8.29665978915e-05\n",
      "0.000150723076365\n",
      "0.000197797848285\n",
      "0.000238666357457\n",
      "0.000285992983674\n",
      "0.000257993836488\n",
      "0.000206414722075\n",
      "0.000330810612068\n",
      "0.000250680140492\n",
      "0.000203837997185\n",
      "9.71979201534e-05\n",
      "0.000135826344169\n",
      "0.000147153313432\n",
      "0.000314852471746\n",
      "0.000238023105974\n",
      "0.000122930005325\n",
      "0.000137935172933\n",
      "0.000195373726106\n",
      "0.00012562098451\n",
      "0.000184567999807\n",
      "0.000192353604316\n",
      "0.000130500440078\n",
      "9.72524527433e-05\n",
      "0.000108632934317\n",
      "0.000319295786285\n",
      "0.000234227763206\n",
      "0.000256548443348\n",
      "0.000125582184225\n",
      "0.000132420802543\n",
      "6.65146877017e-05\n",
      "0.000132239540596\n",
      "0.000221322367484\n",
      "0.000135201110256\n",
      "0.00016735358174\n",
      "7.61259133591e-05\n",
      "0.000208949794747\n",
      "0.000250499953107\n",
      "0.000116775032523\n",
      "0.000164532231972\n",
      "0.000166122528957\n",
      "0.000117848625258\n",
      "0.000282203298997\n",
      "0.000103940930942\n",
      "0.000223086108526\n",
      "0.00020005240987\n",
      "0.000139343842953\n",
      "0.000157600447556\n",
      "0.000162758552432\n",
      "0.000149545211138\n",
      "0.000244996912174\n",
      "0.00013703425697\n",
      "0.000212986088486\n",
      "0.000126967601324\n",
      "0.00012394328401\n",
      "0.000139964645923\n",
      "0.00016405527383\n",
      "0.000140677191004\n",
      "0.000181229079468\n",
      "0.000211953253639\n",
      "0.000271650107218\n",
      "iteration=200, primal:4400.37534, dual:-0.14579, gap:4400.52113 alpha_comp:198 alpha_norm:0.00273 w_norm:0.19138\n",
      "0.000202725128031\n",
      "0.000160972803871\n",
      "0.000217053034174\n",
      "0.000207750200336\n",
      "-0.0\n",
      "7.81503650645e-05\n",
      "0.000222575660882\n",
      "0.000225605582146\n",
      "0.000116892864192\n",
      "4.55071389983e-05\n",
      "0.000129450077703\n",
      "0.000165598823985\n",
      "0.000142712921309\n",
      "0.000258449244999\n",
      "0.000132715607059\n",
      "0.00010811178272\n",
      "0.000176930662578\n",
      "0.000113712374614\n",
      "0.00016445997663\n",
      "0.000100860474419\n",
      "0.000163313314898\n",
      "0.000142075401256\n",
      "0.000253705881839\n",
      "0.000169685742311\n",
      "0.000147423262791\n",
      "0.000201582836051\n",
      "0.000162919726189\n",
      "0.000216044512455\n",
      "0.000126323289345\n",
      "0.000256104952614\n",
      "0.000137264135735\n",
      "0.000319463689175\n",
      "0.00021873621234\n",
      "9.12203987877e-05\n",
      "0.000185549247878\n",
      "0.000143374431903\n",
      "0.000151633338306\n",
      "0.000231706848929\n",
      "0.000120345578996\n",
      "0.000121914140892\n",
      "0.000276255457219\n",
      "7.75817659563e-05\n",
      "0.000138716873155\n",
      "4.97159334629e-05\n",
      "8.79887244399e-05\n",
      "4.23492725128e-05\n",
      "8.09884642911e-05\n",
      "0.000101412663877\n",
      "7.09546531134e-05\n",
      "0.000118441896774\n",
      "7.6973346997e-05\n",
      "0.000193183027816\n",
      "0.000234417177447\n",
      "0.000197584677302\n",
      "0.000211825927898\n",
      "0.000212446066901\n",
      "0.000130141359921\n",
      "0.000126795078001\n",
      "9.61180807544e-05\n",
      "0.000301399587009\n",
      "0.000180793051146\n",
      "0.000143337576447\n",
      "0.000228604289188\n",
      "0.000194934650323\n",
      "0.000107906406899\n",
      "0.000230056977632\n",
      "0.000158193414162\n",
      "8.92386206308e-05\n",
      "9.04305895743e-05\n",
      "0.000210275118681\n",
      "0.000181590397018\n",
      "5.19232299112e-05\n",
      "0.000145129882739\n",
      "0.000196280780467\n",
      "0.000205425567604\n",
      "0.000208470049743\n",
      "8.28596921769e-05\n",
      "0.000170395560537\n",
      "0.000176896237197\n",
      "0.000185995585275\n",
      "0.000133683466983\n",
      "5.59522372039e-05\n",
      "0.000215699630385\n",
      "0.000239358059511\n",
      "0.000125921452276\n",
      "5.58771353605e-05\n",
      "0.000147903129363\n",
      "6.07821584487e-05\n",
      "0.00015149816059\n",
      "9.59288832136e-05\n",
      "0.000231036349852\n",
      "9.98678498864e-05\n",
      "0.000107923204707\n",
      "-0.0\n",
      "0.000128534858588\n",
      "0.000176116342967\n",
      "0.000171627370848\n",
      "9.40325341499e-05\n",
      "0.000221320980707\n",
      "training accuracy = 0.6672\n"
     ]
    }
   ],
   "source": [
    "def coordinate_descent_for_svm_demo(y, X):\n",
    "    max_iter = 300\n",
    "    lambda_ = 0.1\n",
    "\n",
    "    num_examples, num_features = X.shape\n",
    "    w = np.zeros(num_features)\n",
    "    alpha = np.zeros(num_examples)\n",
    "    \n",
    "    for it in range(max_iter):\n",
    "        # n = sample one data point uniformly at random data from x\n",
    "        n = random.randint(0,num_examples-1)\n",
    "        \n",
    "        w, alpha = calculate_coordinate_update(y, X, lambda_, alpha, w, n)\n",
    "        #print(np.linalg.norm(w), np.linalg.norm(alpha))\n",
    "        #break\n",
    "            \n",
    "        if it % 100 == 0:\n",
    "            # primal objective\n",
    "            primal_value = calculate_primal_objective(y, X, w, lambda_)\n",
    "            # dual objective\n",
    "            dual_value = calculate_dual_objective(y, X, w, alpha, lambda_)\n",
    "            # primal dual gap\n",
    "            duality_gap = primal_value - dual_value\n",
    "            print('iteration=%i, primal:%.5f, dual:%.5f, gap:%.5f alpha_comp:%d alpha_norm:%.5f w_norm:%.5f'%(\n",
    "                    it, primal_value, dual_value, duality_gap, np.sum(alpha > 0), np.linalg.norm(alpha),\n",
    "            np.linalg.norm(w)))\n",
    "    print(\"training accuracy = {l}\".format(l=calculate_accuracy(y, X, w)))\n",
    "\n",
    "coordinate_descent_for_svm_demo(y, X)"
   ]
  },
  {
   "cell_type": "code",
   "execution_count": null,
   "metadata": {
    "collapsed": true
   },
   "outputs": [],
   "source": []
  },
  {
   "cell_type": "code",
   "execution_count": null,
   "metadata": {
    "collapsed": true
   },
   "outputs": [],
   "source": []
  }
 ],
 "metadata": {
  "anaconda-cloud": {},
  "kernelspec": {
   "display_name": "Python 3",
   "language": "python",
   "name": "python3"
  },
  "language_info": {
   "codemirror_mode": {
    "name": "ipython",
    "version": 3
   },
   "file_extension": ".py",
   "mimetype": "text/x-python",
   "name": "python",
   "nbconvert_exporter": "python",
   "pygments_lexer": "ipython3",
   "version": "3.6.2"
  }
 },
 "nbformat": 4,
 "nbformat_minor": 1
}
